{
 "cells": [
  {
   "cell_type": "code",
   "execution_count": 404,
   "metadata": {},
   "outputs": [],
   "source": [
    "import tweepy\n",
    "import pandas as pd\n",
    "import matplotlib.pyplot as plt\n",
    "from matplotlib import style\n",
    "from textblob import TextBlob\n",
    "from config import *\n",
    "from vaderSentiment.vaderSentiment import SentimentIntensityAnalyzer\n",
    "analyzer = SentimentIntensityAnalyzer()\n",
    "import seaborn as sns\n",
    "from datetime import datetime\n",
    "from pprint import pprint\n",
    "from itertools import cycle\n",
    "\n",
    "auth = tweepy.OAuthHandler(consumer_key, consumer_secret)\n",
    "auth.set_access_token(access_token, access_token_secret)\n",
    "api = tweepy.API(auth, parser=tweepy.parsers.JSONParser(), wait_on_rate_limit=True)"
   ]
  },
  {
   "cell_type": "code",
   "execution_count": 457,
   "metadata": {},
   "outputs": [],
   "source": [
    "accounts = []\n",
    "sender = ''\n",
    "#new_acc = '@PayPal'\n",
    "#if new_acc not in accounts:\n",
    "    #accounts.append(new_acc)\n",
    "last_tweet_id = 0\n",
    "query = '@SonikGryazzz'\n",
    "accounts = [query]"
   ]
  },
  {
   "cell_type": "code",
   "execution_count": 458,
   "metadata": {},
   "outputs": [
    {
     "data": {
      "text/plain": [
       "3"
      ]
     },
     "execution_count": 458,
     "metadata": {},
     "output_type": "execute_result"
    }
   ],
   "source": [
    "mentions = api.search(query, count=10, result_type='recent')\n",
    "len(mentions['statuses'])"
   ]
  },
  {
   "cell_type": "code",
   "execution_count": 354,
   "metadata": {},
   "outputs": [
    {
     "name": "stdout",
     "output_type": "stream",
     "text": [
      "982241369082052615\n",
      "982241329525616642\n",
      "982241233723539457\n"
     ]
    }
   ],
   "source": [
    "for tweet in mentions['statuses']:\n",
    "    print(tweet['id'])"
   ]
  },
  {
   "cell_type": "code",
   "execution_count": 381,
   "metadata": {},
   "outputs": [
    {
     "name": "stdout",
     "output_type": "stream",
     "text": [
      "'Sonya'\n",
      "'Sonya'\n",
      "'Sonya'\n"
     ]
    }
   ],
   "source": [
    "for tweet in mentions['statuses']:\n",
    "    pprint(tweet['user']['name'])\n",
    "    "
   ]
  },
  {
   "cell_type": "code",
   "execution_count": 459,
   "metadata": {},
   "outputs": [
    {
     "name": "stdout",
     "output_type": "stream",
     "text": [
      "982241369082052615\n",
      "new acc to check: @SonikGryazzz\n",
      "We've analyzed it already\n",
      "---------\n",
      "982241329525616642\n",
      "new acc to check: @justinbieber\n",
      "sender is Sonya (@SonikGryazzz)\n",
      "---\n",
      "982241233723539457\n",
      "new acc to check: @goingoutguide\n",
      "sender is Sonya (@SonikGryazzz)\n",
      "---\n"
     ]
    }
   ],
   "source": [
    "for tweet in mentions['statuses']:\n",
    "    tweet_id = tweet['id']\n",
    "    print(tweet_id)\n",
    "    if tweet_id > last_tweet_id:\n",
    "        try:\n",
    "            new_acc = (f'@{tweet[\"entities\"][\"user_mentions\"][-1][\"screen_name\"]}')\n",
    "            print(f'new acc to check: {new_acc}')\n",
    "            \n",
    "            if not new_acc:\n",
    "                break  \n",
    "                \n",
    "        except(IndexError):\n",
    "            print('')\n",
    "            \n",
    "        if new_acc not in accounts:\n",
    "            accounts.append(new_acc)\n",
    "            sender = (f\"{tweet['user']['name']} (@{tweet['user']['screen_name']})\")\n",
    "             \n",
    "            print(f'sender is {sender}')\n",
    "            print('---')\n",
    "            \n",
    "            blob_sent(new_acc, sender)\n",
    "            api.update_with_media('Output/plot.png', f'New Tweet Analysis of {new_acc}. Thank you {sender}!')\n",
    "            \n",
    "        else:\n",
    "            print('We\\'ve analyzed it already')\n",
    "            print('---------')\n",
    "\n",
    "try:\n",
    "    mentions['statuses'][0]['id'] = tweet_id\n",
    "except(IndexError):\n",
    "    print('No new account name in the tweet')"
   ]
  },
  {
   "cell_type": "code",
   "execution_count": 378,
   "metadata": {},
   "outputs": [
    {
     "data": {
      "text/plain": [
       "['@SonikGryazzz', '@justinbieber', '@goingoutguide']"
      ]
     },
     "execution_count": 378,
     "metadata": {},
     "output_type": "execute_result"
    }
   ],
   "source": [
    "accounts"
   ]
  },
  {
   "cell_type": "code",
   "execution_count": 416,
   "metadata": {},
   "outputs": [
    {
     "data": {
      "text/plain": [
       "'Sonya (@SonikGryazzz)'"
      ]
     },
     "execution_count": 416,
     "metadata": {},
     "output_type": "execute_result"
    }
   ],
   "source": [
    "sender"
   ]
  },
  {
   "cell_type": "markdown",
   "metadata": {},
   "source": [
    "mentions = api.search(query, count=5, result_type='recent')\n",
    "\n",
    "for tweet in mentions['statuses']:\n",
    "    \n",
    "    tweet_id = tweet['id']\n",
    "    print(tweet_id)\n",
    "    \n",
    "    if tweet_id > last_tweet_id:\n",
    "        \n",
    "        try:\n",
    "            new_acc = recent_tweet['entities']['user_mentions'][0]['screen_name']\n",
    "            print(new_acc)\n",
    "        \n",
    "            if not new_acc:\n",
    "                break\n",
    "                \n",
    "            sender = tweet['user']['screen_name']\n",
    "            print(sender)\n",
    "               \n",
    "        except(IndexError):\n",
    "            print('No new account name in the tweet')\n",
    "        \n",
    "        if new_acc not in accounts:\n",
    "            accounts.append(f'@{new_acc}')\n",
    "            #blob_sent(new_acc,sender)\n",
    "        else:\n",
    "            print('We\\'ve analyzed it already')"
   ]
  },
  {
   "cell_type": "code",
   "execution_count": 125,
   "metadata": {},
   "outputs": [],
   "source": []
  },
  {
   "cell_type": "markdown",
   "metadata": {},
   "source": [
    "recent_tweet = api.user_timeline(count=1, result_type='recent')\n",
    "\n",
    "if last_tweet_id < recent_tweet[0]['id']:\n",
    "    last_tweet_id = recent_tweet[0]['id']\n",
    "new_acc = ''\n",
    "\n",
    "try:\n",
    "    new_acc = recent_tweet[0]['entities']['user_mentions'][-1]['screen_name']\n",
    "except(IndexError):\n",
    "    print('No account name in the tweet')\n",
    "\n",
    "if (new_acc):\n",
    "    print(new_acc)\n",
    "    if new_acc not in accounts:\n",
    "        accounts.append(f'@{new_acc}')\n",
    "        #blob_sent(new_acc)\n",
    "else:\n",
    "    print('No new accounts to analyze')"
   ]
  },
  {
   "cell_type": "code",
   "execution_count": 394,
   "metadata": {},
   "outputs": [],
   "source": [
    "#api.update_with_media('Ouptut/plot.png', f'New Tweet analysis. Thank you {sender}!')"
   ]
  },
  {
   "cell_type": "code",
   "execution_count": 109,
   "metadata": {},
   "outputs": [
    {
     "data": {
      "text/plain": [
       "['@PayPal', '@justinbieber']"
      ]
     },
     "execution_count": 109,
     "metadata": {},
     "output_type": "execute_result"
    }
   ],
   "source": []
  },
  {
   "cell_type": "code",
   "execution_count": 395,
   "metadata": {},
   "outputs": [],
   "source": [
    "#api.update_status('Test @SonikGryazzz Test tweet')"
   ]
  },
  {
   "cell_type": "code",
   "execution_count": 451,
   "metadata": {},
   "outputs": [],
   "source": [
    "def two_plots(data,send,acc):\n",
    "    df = pd.DataFrame(data)\n",
    "    current_date = datetime.now().date().strftime(\"%d.%m.%Y\")\n",
    "    sns.set()\n",
    "    \n",
    "    feature_list = ['Polarity', 'Subjectivity']\n",
    "    colors = cycle(['g', 'orange'])\n",
    "    \n",
    "    plt.figure(figsize=(7,9))\n",
    "    for i in range(len(feature_list)):\n",
    "        \n",
    "        plt.subplot(2,1,i+1)\n",
    "        plt.plot(df['Tweets Ago'], df[feature_list[i]], marker='o', linewidth=0.3, color=next(colors), alpha=0.9)\n",
    "        plt.title(f'Sentiment Analysis of Tweets {feature_list[i]}\\n by {acc} on {current_date}\\n Requested by {send}')\n",
    "        plt.ylabel(f'Tweets {feature_list[i]}')\n",
    "        plt.ylim(-1.1,1.1)\n",
    "        \n",
    "    plt.tight_layout()    \n",
    "    plt.savefig('Output/plot.png')"
   ]
  },
  {
   "cell_type": "code",
   "execution_count": 452,
   "metadata": {},
   "outputs": [],
   "source": [
    "#df = pd.DataFrame(testdata)"
   ]
  },
  {
   "cell_type": "code",
   "execution_count": 453,
   "metadata": {},
   "outputs": [],
   "source": [
    "#plt.plot(df['Tweets Ago'], df[i], marker='o', linewidth=0.3, color=next(colors), alpha=0.9)"
   ]
  },
  {
   "cell_type": "code",
   "execution_count": 454,
   "metadata": {},
   "outputs": [
    {
     "data": {
      "image/png": "[encoded data removed]",
      "text/plain": [
       "<matplotlib.figure.Figure at 0x1a1266a908>"
      ]
     },
     "metadata": {},
     "output_type": "display_data"
    }
   ],
   "source": [
    "two_plots(testdata, 'Sonya (@SonikGryazzz)', '@goingoutguide')"
   ]
  },
  {
   "cell_type": "code",
   "execution_count": 401,
   "metadata": {},
   "outputs": [],
   "source": [
    "# Function for plotting\n",
    "def senti_plot(data,send,acc):\n",
    "    df = pd.DataFrame(data)\n",
    "    current_date = datetime.now().date().strftime(\"%d.%m.%Y\")\n",
    "    sns.set()\n",
    "    \n",
    "    #plt.figure()\n",
    "    ax = df.plot(kind='line', x='Tweets Ago', y='Polarity', marker='o', linewidth=0.3, color='g', alpha=0.9)\n",
    "    ax.set_ylim(-1.1, 1.1)\n",
    "    ax.set_ylabel('Tweets Polarity')\n",
    "    ax.set_title(f'Sentiment Analysis of Tweets by {acc} on ({current_date})\\n Requested by {send}')\n",
    "    plt.savefig('Output/plot.png')\n",
    "    #return()"
   ]
  },
  {
   "cell_type": "code",
   "execution_count": 412,
   "metadata": {},
   "outputs": [
    {
     "data": {
      "text/plain": [
       "[]"
      ]
     },
     "execution_count": 412,
     "metadata": {},
     "output_type": "execute_result"
    }
   ],
   "source": []
  },
  {
   "cell_type": "code",
   "execution_count": 417,
   "metadata": {},
   "outputs": [],
   "source": [
    "def blob_sent(acc,send):\n",
    "    \n",
    "    total_mood = []\n",
    "    last_tweet = None\n",
    "    tweet_counter = 0\n",
    "    send = send\n",
    "    acc = acc\n",
    "    \n",
    "    for x in range(2):\n",
    "        \n",
    "        all_data = api.user_timeline(acc, count=10, max_id=last_tweet, page=x)\n",
    "        \n",
    "        for tweet in all_data:\n",
    "            \n",
    "            blob = TextBlob(tweet['text'])\n",
    "            sentiment = blob.sentiment\n",
    "            total_mood.append({'source': acc,\n",
    "                             'Polarity': sentiment[0],\n",
    "                             'Subjectivity': sentiment[1],\n",
    "                             'Tweets Ago': tweet_counter,\n",
    "                             'text': tweet['text'],\n",
    "                             'time': tweet['created_at'],\n",
    "                              'likes': tweet['favorite_count'],\n",
    "                              'RT': tweet['retweet_count']})\n",
    "            tweet_counter -= 1\n",
    "        last_tweet = tweet[\"id\"] - 1\n",
    "    \n",
    "    return two_plots(total_mood,send,acc)"
   ]
  },
  {
   "cell_type": "code",
   "execution_count": 455,
   "metadata": {},
   "outputs": [],
   "source": [
    "#testdata = blob_sent('@goingoutguide', 'Sonya (@SonikGryazzz)')"
   ]
  },
  {
   "cell_type": "code",
   "execution_count": null,
   "metadata": {},
   "outputs": [],
   "source": []
  },
  {
   "cell_type": "code",
   "execution_count": null,
   "metadata": {},
   "outputs": [],
   "source": [
    "# Vader sentiment analysis\n",
    "def senti_get(acc):\n",
    "    \n",
    "    total_mood = []\n",
    "    last_tweet = None\n",
    "    tweet_counter = 0\n",
    "    \n",
    "    for x in range(10):\n",
    "\n",
    "        all_data = api.user_timeline(acc, count=50, max_id=last_tweet, page=x)\n",
    "        \n",
    "        for tweet in all_data:\n",
    "            \n",
    "            emotions = analyzer.polarity_scores(tweet['text'])\n",
    "            \n",
    "            total_mood.append({'source': acc,\n",
    "                             'Polarity': emotions['compound'],\n",
    "                             'positive': emotions['pos'],\n",
    "                             'negative': emotions['neg'],\n",
    "                             'neutral': emotions['neu'],\n",
    "                             'Tweets Ago': tweet_counter,\n",
    "                             'text': tweet['text'],\n",
    "                             'time': tweet['created_at'],\n",
    "                              'likes': tweet['favorite_count'],\n",
    "                              'RT': tweet['retweet_count']})\n",
    "            \n",
    "            tweet_counter -= 1\n",
    "\n",
    "        last_tweet = tweet[\"id\"] - 1\n",
    "    return(total_mood)"
   ]
  },
  {
   "cell_type": "code",
   "execution_count": null,
   "metadata": {},
   "outputs": [],
   "source": []
  }
 ],
 "metadata": {
  "kernelspec": {
   "display_name": "Python 3",
   "language": "python",
   "name": "python3"
  },
  "language_info": {
   "codemirror_mode": {
    "name": "ipython",
    "version": 3
   },
   "file_extension": ".py",
   "mimetype": "text/x-python",
   "name": "python",
   "nbconvert_exporter": "python",
   "pygments_lexer": "ipython3",
   "version": "3.6.4"
  }
 },
 "nbformat": 4,
 "nbformat_minor": 2
}
