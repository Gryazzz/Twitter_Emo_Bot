{
 "cells": [
  {
   "cell_type": "code",
   "execution_count": 4,
   "metadata": {},
   "outputs": [],
   "source": [
    "import tweepy\n",
    "import pandas as pd\n",
    "import matplotlib.pyplot as plt\n",
    "from matplotlib import style\n",
    "from textblob import TextBlob\n",
    "from config import *\n",
    "from vaderSentiment.vaderSentiment import SentimentIntensityAnalyzer\n",
    "analyzer = SentimentIntensityAnalyzer()\n",
    "import seaborn as sns\n",
    "from datetime import datetime\n",
    "from pprint import pprint\n",
    "\n",
    "auth = tweepy.OAuthHandler(consumer_key, consumer_secret)\n",
    "auth.set_access_token(access_token, access_token_secret)\n",
    "api = tweepy.API(auth, parser=tweepy.parsers.JSONParser())"
   ]
  },
  {
   "cell_type": "code",
   "execution_count": 5,
   "metadata": {},
   "outputs": [],
   "source": [
    "accounts = []\n",
    "req_acc = ''\n",
    "new_acc = '@PayPal'\n",
    "if new_acc not in accounts:\n",
    "    accounts.append(new_acc)"
   ]
  },
  {
   "cell_type": "code",
   "execution_count": null,
   "metadata": {},
   "outputs": [],
   "source": []
  },
  {
   "cell_type": "code",
   "execution_count": 89,
   "metadata": {},
   "outputs": [],
   "source": []
  },
  {
   "cell_type": "code",
   "execution_count": 90,
   "metadata": {},
   "outputs": [],
   "source": []
  },
  {
   "cell_type": "code",
   "execution_count": 20,
   "metadata": {},
   "outputs": [],
   "source": []
  },
  {
   "cell_type": "code",
   "execution_count": 23,
   "metadata": {},
   "outputs": [],
   "source": [
    "# Function for plotting\n",
    "def senti_plot(data):\n",
    "    df = pd.DataFrame(data)\n",
    "    current_date = datetime.now().date().strftime(\"%d.%m.%Y\")\n",
    "    sns.set()\n",
    "    \n",
    "    #plt.figure()\n",
    "    ax = df.plot(kind='line', x='Tweets Ago', y='Polarity', marker='o', linewidth=0.3, color='g', alpha=0.9)\n",
    "    ax.set_ylim(-1.1, 1.1)\n",
    "    ax.set_ylabel('Tweet Polarity')\n",
    "    ax.set_title(f'Sentiment Analysis of Tweets ({current_date})\\n Requested by {req_acc}')\n",
    "    return plt"
   ]
  },
  {
   "cell_type": "code",
   "execution_count": 24,
   "metadata": {},
   "outputs": [],
   "source": [
    "def blob_sent(acc):\n",
    "    \n",
    "    total_mood = []\n",
    "    last_tweet = None\n",
    "    tweet_counter = 0\n",
    "    \n",
    "    for x in range(2):\n",
    "        \n",
    "        all_data = api.user_timeline(acc, count=10, max_id=last_tweet, page=x)\n",
    "        \n",
    "        for tweet in all_data:\n",
    "            \n",
    "            blob = TextBlob(tweet['text'])\n",
    "            sentiment = blob.sentiment\n",
    "            total_mood.append({'source': acc,\n",
    "                             'Polarity': sentiment[0],\n",
    "                             'Subjectivity': sentiment[1],\n",
    "                             'Tweets Ago': tweet_counter,\n",
    "                             'text': tweet['text'],\n",
    "                             'time': tweet['created_at'],\n",
    "                              'likes': tweet['favorite_count'],\n",
    "                              'RT': tweet['retweet_count']})\n",
    "            tweet_counter -= 1\n",
    "        last_tweet = tweet[\"id\"] - 1\n",
    "    return senti_plot(total_mood)"
   ]
  },
  {
   "cell_type": "code",
   "execution_count": 22,
   "metadata": {},
   "outputs": [
    {
     "data": {
      "text/plain": [
       "<module 'matplotlib.pyplot' from '/Users/sonik/anaconda3/envs/pythondata/lib/python3.6/site-packages/matplotlib/pyplot.py'>"
      ]
     },
     "execution_count": 22,
     "metadata": {},
     "output_type": "execute_result"
    },
    {
     "data": {
      "image/png": "[encoded data removed]",
      "text/plain": [
       "<matplotlib.figure.Figure at 0x1a127b2cf8>"
      ]
     },
     "metadata": {},
     "output_type": "display_data"
    }
   ],
   "source": [
    "blob_sent(new_acc)"
   ]
  },
  {
   "cell_type": "code",
   "execution_count": null,
   "metadata": {},
   "outputs": [],
   "source": [
    "# Vader sentiment analysis\n",
    "def senti_get(acc):\n",
    "    \n",
    "    total_mood = []\n",
    "    last_tweet = None\n",
    "    tweet_counter = 0\n",
    "    \n",
    "    for x in range(10):\n",
    "\n",
    "        all_data = api.user_timeline(acc, count=50, max_id=last_tweet, page=x)\n",
    "        \n",
    "        for tweet in all_data:\n",
    "            \n",
    "            emotions = analyzer.polarity_scores(tweet['text'])\n",
    "            \n",
    "            total_mood.append({'source': acc,\n",
    "                             'Polarity': emotions['compound'],\n",
    "                             'positive': emotions['pos'],\n",
    "                             'negative': emotions['neg'],\n",
    "                             'neutral': emotions['neu'],\n",
    "                             'Tweets Ago': tweet_counter,\n",
    "                             'text': tweet['text'],\n",
    "                             'time': tweet['created_at'],\n",
    "                              'likes': tweet['favorite_count'],\n",
    "                              'RT': tweet['retweet_count']})\n",
    "            \n",
    "            tweet_counter -= 1\n",
    "\n",
    "        last_tweet = tweet[\"id\"] - 1\n",
    "    return(total_mood)"
   ]
  }
 ],
 "metadata": {
  "kernelspec": {
   "display_name": "Python 3",
   "language": "python",
   "name": "python3"
  },
  "language_info": {
   "codemirror_mode": {
    "name": "ipython",
    "version": 3
   },
   "file_extension": ".py",
   "mimetype": "text/x-python",
   "name": "python",
   "nbconvert_exporter": "python",
   "pygments_lexer": "ipython3",
   "version": "3.6.4"
  }
 },
 "nbformat": 4,
 "nbformat_minor": 2
}
